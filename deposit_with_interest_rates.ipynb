{
  "nbformat": 4,
  "nbformat_minor": 0,
  "metadata": {
    "colab": {
      "provenance": [],
      "authorship_tag": "ABX9TyNVxiIJBymh4w7wdHlU1yLr",
      "include_colab_link": true
    },
    "kernelspec": {
      "name": "python3",
      "display_name": "Python 3"
    },
    "language_info": {
      "name": "python"
    }
  },
  "cells": [
    {
      "cell_type": "markdown",
      "metadata": {
        "id": "view-in-github",
        "colab_type": "text"
      },
      "source": [
        "<a href=\"https://colab.research.google.com/github/charliehan8/python/blob/main/deposit_with_interest_rates.ipynb\" target=\"_parent\"><img src=\"https://colab.research.google.com/assets/colab-badge.svg\" alt=\"Open In Colab\"/></a>"
      ]
    },
    {
      "cell_type": "code",
      "execution_count": 4,
      "metadata": {
        "colab": {
          "base_uri": "https://localhost:8080/"
        },
        "id": "ohd8a5XsQfxy",
        "outputId": "3502d080-e4d4-41ee-eab1-80f5dbb8688f"
      },
      "outputs": [
        {
          "output_type": "stream",
          "name": "stdout",
          "text": [
            "Enter your name: charlie\n",
            "Enter customer type (n: new, e:existing): n\n",
            "Enter deposit amount (in $): 500\n",
            "515.0\n"
          ]
        }
      ],
      "source": [
        "name = input('Enter your name: ')\n",
        "customer_type = input('Enter customer type (n: new, e:existing): ')\n",
        "deposit = float(input(\"Enter deposit amount (in $): \"))\n",
        "\n",
        "if customer_type == 'n':\n",
        "  interest = 0.03\n",
        "else:\n",
        "  if deposit <= 1000:\n",
        "    interest = 0.03\n",
        "  elif deposit <= 10000:\n",
        "    interest = 0.0325\n",
        "  elif deposit > 10000:\n",
        "    interest = 0.035\n",
        "\n",
        "total = (1 + interest) * deposit\n",
        "print(total)"
      ]
    }
  ]
}