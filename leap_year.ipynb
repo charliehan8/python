{
  "nbformat": 4,
  "nbformat_minor": 0,
  "metadata": {
    "colab": {
      "provenance": [],
      "authorship_tag": "ABX9TyNX26aO/psD6zJkXRLyPNUe",
      "include_colab_link": true
    },
    "kernelspec": {
      "name": "python3",
      "display_name": "Python 3"
    },
    "language_info": {
      "name": "python"
    }
  },
  "cells": [
    {
      "cell_type": "markdown",
      "metadata": {
        "id": "view-in-github",
        "colab_type": "text"
      },
      "source": [
        "<a href=\"https://colab.research.google.com/github/charliehan8/python/blob/main/leap_year.ipynb\" target=\"_parent\"><img src=\"https://colab.research.google.com/assets/colab-badge.svg\" alt=\"Open In Colab\"/></a>"
      ]
    },
    {
      "cell_type": "code",
      "execution_count": 1,
      "metadata": {
        "colab": {
          "base_uri": "https://localhost:8080/"
        },
        "id": "N7BHJDNhOFVC",
        "outputId": "5f4d745e-3c52-4ed1-9746-20600c5d410d"
      },
      "outputs": [
        {
          "output_type": "stream",
          "name": "stdout",
          "text": [
            "enter a year: 2004\n",
            "2004 is a leap year!\n"
          ]
        }
      ],
      "source": [
        "year = int(input(\"enter a year: \"))\n",
        "\n",
        "if (year % 4 == 0 and year % 100 != 0 ) or (year % 400 == 0):\n",
        "  print(f\"{year} is a leap year!\")\n",
        "\n",
        "else:\n",
        "  print (f\"{year} is not a leap year.\")"
      ]
    }
  ]
}