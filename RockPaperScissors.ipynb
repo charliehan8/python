{
  "nbformat": 4,
  "nbformat_minor": 0,
  "metadata": {
    "colab": {
      "provenance": [],
      "include_colab_link": true
    },
    "kernelspec": {
      "name": "python3",
      "display_name": "Python 3"
    },
    "language_info": {
      "name": "python"
    }
  },
  "cells": [
    {
      "cell_type": "markdown",
      "metadata": {
        "id": "view-in-github",
        "colab_type": "text"
      },
      "source": [
        "<a href=\"https://colab.research.google.com/github/charliehan8/python/blob/main/RockPaperScissors.ipynb\" target=\"_parent\"><img src=\"https://colab.research.google.com/assets/colab-badge.svg\" alt=\"Open In Colab\"/></a>"
      ]
    },
    {
      "cell_type": "code",
      "execution_count": null,
      "metadata": {
        "colab": {
          "base_uri": "https://localhost:8080/"
        },
        "id": "lRyJE2o7EtM3",
        "outputId": "ffd2c848-63c9-4791-a1dd-0bf8a6e2a35e"
      },
      "outputs": [
        {
          "output_type": "stream",
          "name": "stdout",
          "text": [
            "Enter rock, paper, or scissors: rock\n",
            "Player Wins! Player chose rock and Computer chose scissors\n"
          ]
        }
      ],
      "source": [
        "import random\n",
        "\n",
        "rps = input(\"Enter rock, paper, or scissors: \")\n",
        "cc = random.choice([\"rock\", \"paper\", \"scissors\"])\n",
        "\n",
        "if rps == cc:\n",
        "  print(f\"Tie! Player chose {rps} and Computer chose {cc}\")\n",
        "elif rps == \"rock\" and cc == \"scissors\" or rps == \"paper\" and cc == \"rock\" or rps == \"scissors\" and cc == \"paper\":\n",
        "  print(f\"Player Wins! Player chose {rps} and Computer chose {cc}\")\n",
        "else:\n",
        "  print(f\"Computer Wins! Player chose {rps} and Computer chose {cc}\")\n",
        "\n",
        "\n",
        "\n",
        "\n",
        "\n",
        "\n"
      ]
    },
    {
      "cell_type": "code",
      "source": [
        "import random\n",
        "\n",
        "userinput = input(\"yes/no\")\n",
        "\n",
        "while userinput == \"yes\":\n",
        "  rps = input(\"Enter rock, paper, or scissors: \")\n",
        "  cc = random.choice([\"rock\", \"paper\", \"scissors\"])\n",
        "  if rps == cc:\n",
        "   print(f\"Tie! Player chose {rps} and Computer chose {cc}\")\n",
        "  elif rps == \"rock\" and cc == \"scissors\" or rps == \"paper\" and cc == \"rock\" or rps == \"scissors\" and cc == \"paper\":\n",
        "    print(f\"Player Wins! Player chose {rps} and Computer chose {cc}\")\n",
        "  else:\n",
        "    print(f\"Computer Wins! Player chose {rps} and Computer chose {cc}\")\n",
        "  userinput = input(\"play again? yes/no\")"
      ],
      "metadata": {
        "id": "KpQzKZ_XNsxG"
      },
      "execution_count": null,
      "outputs": []
    }
  ]
}